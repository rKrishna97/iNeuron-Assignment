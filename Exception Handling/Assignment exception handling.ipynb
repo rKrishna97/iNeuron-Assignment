{
 "metadata": {
  "language_info": {
   "codemirror_mode": {
    "name": "ipython",
    "version": 3
   },
   "file_extension": ".py",
   "mimetype": "text/x-python",
   "name": "python",
   "nbconvert_exporter": "python",
   "pygments_lexer": "ipython3",
   "version": "3.8.6-final"
  },
  "orig_nbformat": 2,
  "kernelspec": {
   "name": "python3",
   "display_name": "Python 3"
  }
 },
 "nbformat": 4,
 "nbformat_minor": 2,
 "cells": [
  {
   "source": [
    "Questing 1 \n",
    "<br><br>\n",
    "1. Write a function to compute 5/0 and use try/except to catch the exceptions. "
   ],
   "cell_type": "markdown",
   "metadata": {}
  },
  {
   "cell_type": "code",
   "execution_count": 14,
   "metadata": {},
   "outputs": [
    {
     "output_type": "stream",
     "name": "stdout",
     "text": [
      "You are dividing by Zero. Correct the code\n"
     ]
    }
   ],
   "source": [
    "def a_function():\n",
    "    return 5/0\n",
    "\n",
    "try:\n",
    "    a_function()\n",
    "except ZeroDivisionError:\n",
    "    print(\"You are dividing by Zero. Correct the code\")"
   ]
  },
  {
   "source": [
    "Questing 2\n",
    "<br><br>\n",
    "2. Implement a Python program to generate all sentences where subject is in \\[\"Americans\", \"Indians\"\\] and verb is in \\[\"Play\", \"watch\"\\] and the object is in \\[\"Baseball\",\"cricket\"\\].\n",
    "<br><br>\n",
    "Hint: Subject,Verb and Object should be declared in the program as shown below.\n",
    "<br><br>\n",
    "subjects=\\[\"Americans \",\"Indians\"\\]\n",
    "<br>\n",
    "verbs=\\[\"play\",\"watch\"\\] \n",
    "<br>\n",
    "objects=\\[\"Baseball\",\"Cricket\"\\]\n",
    "<br><br>\n",
    "Output should come as below:\n",
    "<br><br>\n",
    "Americans play Baseball. \n",
    "<br>\n",
    "Americans play Cricket. \n",
    "<br>\n",
    "Americans watch Baseball.\n",
    "<br>\n",
    "Americans watch Cricket. \n",
    "<br>\n",
    "Indians play Baseball.\n",
    "<br>\n",
    "Indians play Cricket. \n",
    "<br>\n",
    "Indians watch Baseball. \n",
    "<br>\n",
    "Indians watch Cricket.\n"
   ],
   "cell_type": "markdown",
   "metadata": {}
  },
  {
   "cell_type": "code",
   "execution_count": 17,
   "metadata": {},
   "outputs": [
    {
     "output_type": "stream",
     "name": "stdout",
     "text": [
      "Americans  play Baseball.\nAmericans  play Cricket.\nAmericans  watch Baseball.\nAmericans  watch Cricket.\nIndians play Baseball.\nIndians play Cricket.\nIndians watch Baseball.\nIndians watch Cricket.\n"
     ]
    }
   ],
   "source": [
    "subjects=[\"Americans \",\"Indians\"] \n",
    "verbs=[\"play\",\"watch\"] \n",
    "objects=[\"Baseball\",\"Cricket\"]\n",
    "\n",
    "for i in subjects:\n",
    "    for j in verbs:\n",
    "        for k in objects:\n",
    "            k = \"\".join([k,\".\"])\n",
    "            print(\" \".join([i,j,k,]))"
   ]
  },
  {
   "cell_type": "code",
   "execution_count": null,
   "metadata": {},
   "outputs": [],
   "source": []
  }
 ]
}