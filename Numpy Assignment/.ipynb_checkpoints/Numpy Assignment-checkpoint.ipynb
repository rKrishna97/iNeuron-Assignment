{
 "cells": [
  {
   "cell_type": "code",
   "execution_count": 24,
   "id": "virgin-virgin",
   "metadata": {},
   "outputs": [],
   "source": [
    "import numpy as np"
   ]
  },
  {
   "cell_type": "markdown",
   "id": "fifth-celebration",
   "metadata": {},
   "source": [
    "# Problem 1\n",
    "Write a function so that the columns of the output matrix are powers of the input vector.<br><br>\n",
    "The order of the powers is determined by the increasing boolean argument. Specifically, when increasing is False, the i-th output column is the input vector raised element-wise to the power of N - i - 1.<br><br>\n",
    "HINT: Such a matrix with a geometric progression in each row is named for AlexandreTheophile Vandermonde."
   ]
  },
  {
   "cell_type": "code",
   "execution_count": 16,
   "id": "mineral-ontario",
   "metadata": {},
   "outputs": [],
   "source": [
    "def vandermonde_matrix(input_vector, N, increasing=True):\n",
    "    \n",
    "    if increasing:\n",
    "        output_matrix = np.array([num**i for num in input_vector for i in range(N)])\n",
    "        output_matrix = output_matrix.reshape(input_vector.size, N)\n",
    "\n",
    "    elif not increasing:\n",
    "        output_matrix = np.array([num**(N-1-i) for num in input_vector for i in range(N)])\n",
    "        output_matrix = output_matrix.reshape(input_vector.size, N)\n",
    "    \n",
    "    return output_matrix\n",
    "        \n",
    "        "
   ]
  },
  {
   "cell_type": "code",
   "execution_count": 17,
   "id": "worse-trick",
   "metadata": {},
   "outputs": [
    {
     "name": "stdout",
     "output_type": "stream",
     "text": [
      "[[  1   1   1   1   1]\n",
      " [  1   2   4   8  16]\n",
      " [  1   3   9  27  81]\n",
      " [  1   4  16  64 256]\n",
      " [  1   5  25 125 625]]\n"
     ]
    }
   ],
   "source": [
    "# Increasing vector\n",
    "increasing_vector = np.array([1,2,3,4,5])\n",
    "max_power = 5\n",
    "inc_output_matrix = vandermonde_matrix(input_vector=increasing_vector, N = max_power, increasing=True)\n",
    "print(inc_output_matrix)"
   ]
  },
  {
   "cell_type": "code",
   "execution_count": 22,
   "id": "swedish-factor",
   "metadata": {},
   "outputs": [
    {
     "name": "stdout",
     "output_type": "stream",
     "text": [
      "[[  1   1   1   1   1]\n",
      " [  1   2   4   8  16]\n",
      " [  1   3   9  27  81]\n",
      " [  1   4  16  64 256]\n",
      " [  1   5  25 125 625]]\n"
     ]
    }
   ],
   "source": [
    "# Comparing with np.vander\n",
    "print(np.vander(increasing_vector, max_power, increasing=True))"
   ]
  },
  {
   "cell_type": "code",
   "execution_count": 21,
   "id": "killing-stations",
   "metadata": {},
   "outputs": [
    {
     "name": "stdout",
     "output_type": "stream",
     "text": [
      "[[625 125  25   5   1]\n",
      " [256  64  16   4   1]\n",
      " [ 81  27   9   3   1]\n",
      " [ 16   8   4   2   1]\n",
      " [  1   1   1   1   1]]\n"
     ]
    }
   ],
   "source": [
    "# Decreasing vector\n",
    "decreasing_vector = np.array([5,4,3,2,1])\n",
    "max_power = 5\n",
    "dec_output_matrix = vandermonde_matrix(input_vector=decreasing_vector, N = max_power, increasing=False)\n",
    "print(dec_output_matrix)"
   ]
  },
  {
   "cell_type": "code",
   "execution_count": 23,
   "id": "prostate-float",
   "metadata": {},
   "outputs": [
    {
     "name": "stdout",
     "output_type": "stream",
     "text": [
      "[[625 125  25   5   1]\n",
      " [256  64  16   4   1]\n",
      " [ 81  27   9   3   1]\n",
      " [ 16   8   4   2   1]\n",
      " [  1   1   1   1   1]]\n"
     ]
    }
   ],
   "source": [
    "# Comparing with np.vander\n",
    "print(np.vander(decreasing_vector, max_power, increasing=False))"
   ]
  },
  {
   "cell_type": "markdown",
   "id": "western-group",
   "metadata": {},
   "source": [
    "# Problem 2\n",
    "\n",
    "Given a sequence of n values x1, x2, ..., xn and a window size k>0, the k-th moving average of the given sequence is defined as follows:<br><br> The moving average sequence has n-k+1 elements as shown below.<br><br> The moving averages with k=4 of a ten-value sequence (n=10) is shown below<br><br>\n",
    "i 1 2 3 4 5 6 7 8 9 10 <br>===== == == == == == == == == == == <br>Input 10 20 30 40 50 60 70 80 90 100 <br>y1 25 = (10+20+30+40)/4 <br>y2 35 = (20+30+40+50)/4 <br>y3 45 = (30+40+50+60)/4 <br>y4 55 = (40+50+60+70)/4 <br>y5 65 = (50+60+70+80)/4 <br>y6 75 = (60+70+80+90)/4 <br>y7 85 = (70+80+90+100)/4<br><br>\n",
    "Thus, the moving average sequence has n-k+1=10-4+1=7 values.<br><br>Question: Write a function to find moving average in an array over a window: Test it over [3, 5, 7, 2, 8, 10, 11, 65, 72, 81, 99, 100, 150] and window of 3."
   ]
  },
  {
   "cell_type": "code",
   "execution_count": 29,
   "id": "valued-mobility",
   "metadata": {},
   "outputs": [],
   "source": [
    "sequence = [3, 5, 7, 2, 8, 10, 11, 65, 72, 81, 99, 100, 150]\n",
    "k = 3"
   ]
  },
  {
   "cell_type": "code",
   "execution_count": 37,
   "id": "unlike-prophet",
   "metadata": {},
   "outputs": [],
   "source": [
    "def moving_average(sequence, k):\n",
    "    cs = np.cumsum(sequence, dtype=float)\n",
    "    cs[k:] = cs[k:] - cs[:-k]\n",
    "    mov_avg = cs[k-1:]/k\n",
    "    return mov_avg"
   ]
  },
  {
   "cell_type": "code",
   "execution_count": 39,
   "id": "sharp-attraction",
   "metadata": {},
   "outputs": [
    {
     "name": "stdout",
     "output_type": "stream",
     "text": [
      "[  5.      4.667   5.667   6.667   9.667  28.667  49.333  72.667  84.\n",
      "  93.333 116.333]\n"
     ]
    }
   ],
   "source": [
    "mov_avg = moving_average(sequence=sequence, k=k)\n",
    "print(np.round(mov_avg, 3))"
   ]
  },
  {
   "cell_type": "code",
   "execution_count": null,
   "id": "valuable-boards",
   "metadata": {},
   "outputs": [],
   "source": []
  }
 ],
 "metadata": {
  "kernelspec": {
   "display_name": "Python 3",
   "language": "python",
   "name": "python3"
  },
  "language_info": {
   "codemirror_mode": {
    "name": "ipython",
    "version": 3
   },
   "file_extension": ".py",
   "mimetype": "text/x-python",
   "name": "python",
   "nbconvert_exporter": "python",
   "pygments_lexer": "ipython3",
   "version": "3.8.5"
  }
 },
 "nbformat": 4,
 "nbformat_minor": 5
}
