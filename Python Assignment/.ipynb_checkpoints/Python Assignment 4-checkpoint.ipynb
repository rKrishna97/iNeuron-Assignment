{
 "cells": [
  {
   "cell_type": "markdown",
   "metadata": {},
   "source": [
    "Question 1.1\n",
    "\n",
    "1.1 Write a Python Program(with class concepts) to find the area of the triangle using the below formula.\n",
    "<br><br>\n",
    "area = (s*(s-a)*(s-b)*(s-c)) ** 0.5\n",
    "<br><br>\n",
    "Function to take the length of the sides of triangle from user should be defined in the parent class and function to calculate the area should be defined in subclass."
   ]
  },
  {
   "cell_type": "code",
   "execution_count": 38,
   "metadata": {},
   "outputs": [
    {
     "name": "stdout",
     "output_type": "stream",
     "text": [
      "a :  5\n",
      "b :  6\n",
      "c :  4\n",
      "Area : 9.921567416492215\n"
     ]
    }
   ],
   "source": [
    "# Length of the sides defined in parent class \"length_of_sides\"\n",
    "class length_of_sides:\n",
    "    def __init__(self, a, b, c):\n",
    "        self.a = float(a)\n",
    "        self.b = float(b)\n",
    "        self.c = float(c)\n",
    "\n",
    "# Getting input from the user \n",
    "a = int(input(\"Enter the length of side a=\"))\n",
    "b = int(input(\"Enter the length of side b=\"))\n",
    "c = int(input(\"Enter the length of side c=\"))\n",
    "\n",
    "# subclass inherits from parent class\n",
    "class area_of_triangle(length_of_sides):\n",
    "    def __init__(self, a, b, c):\n",
    "        super().__init__(a,b,c) # super() gives access to the methods and properties of parent class\n",
    "\n",
    "    def calculate_area_of_triangle(self): \n",
    "        s = (a+b+c)/2\n",
    "        area = (s*(s-a)*(s-b)*(s-c))**0.5\n",
    "        return area\n",
    "\n",
    "triangle = area_of_triangle(a,b,c)\n",
    "print(\"a : \",a)\n",
    "print(\"b : \",b)\n",
    "print(\"c : \",c)\n",
    "print(\"Area : {}\".format(triangle.calculate_area_of_triangle()))"
   ]
  },
  {
   "cell_type": "markdown",
   "metadata": {},
   "source": [
    "Question 1.2\n",
    "\n",
    "1.2 Write a function filter_long_words() that takes a list of words and an integer n and returns the list of words that are longer than n.\n",
    "\n"
   ]
  },
  {
   "cell_type": "code",
   "execution_count": 40,
   "metadata": {},
   "outputs": [
    {
     "data": {
      "text/plain": [
       "['Learning',\n",
       " 'subfield',\n",
       " 'machine',\n",
       " 'learning',\n",
       " 'concerned',\n",
       " 'algorithms',\n",
       " 'inspired',\n",
       " 'structure',\n",
       " 'function',\n",
       " 'called',\n",
       " 'artificial',\n",
       " 'neural',\n",
       " 'networks']"
      ]
     },
     "execution_count": 40,
     "metadata": {},
     "output_type": "execute_result"
    }
   ],
   "source": [
    "def filter_long_words(words, n):\n",
    "    long_words = []\n",
    "    for i in words:\n",
    "        if len(i) > n:\n",
    "            long_words.append(i)\n",
    "        else:\n",
    "            pass\n",
    "    return long_words\n",
    "\n",
    "sentence = \"Deep Learning is a subfield of machine learning concerned with algorithms inspired by the structure and function of the brain called artificial neural networks\"\n",
    "\n",
    "words = sentence.split()\n",
    "\n",
    "filter_long_words(words, 5)\n",
    "\n"
   ]
  },
  {
   "cell_type": "markdown",
   "metadata": {},
   "source": [
    "Question 2.1\n",
    "\n",
    "2.1 Write a Python program using function concept that maps list of words into a list of integers representing the lengths of the corresponding words. \n",
    "<br><br>\n",
    "Hint: If a list [ ab,cde,erty] is passed on to the python function output should come as [2,3,4] \n",
    "<br>\n",
    "Here 2,3 and 4 are the lengths of the words in the list."
   ]
  },
  {
   "cell_type": "code",
   "execution_count": 41,
   "metadata": {},
   "outputs": [
    {
     "data": {
      "text/plain": [
       "[5, 4, 8, 7]"
      ]
     },
     "execution_count": 41,
     "metadata": {},
     "output_type": "execute_result"
    }
   ],
   "source": [
    "def len_of_words(words):\n",
    "    word_length = [len(i) for i in words]\n",
    "    return word_length\n",
    "\n",
    "words = [\"Tiger\", \"Lion\", \"Elephant\", \"Cheetah\"]\n",
    "len_of_words(words)\n",
    "\n"
   ]
  },
  {
   "cell_type": "markdown",
   "metadata": {},
   "source": [
    "Question 2.2\n",
    "\n",
    "2.2 Write a Python function which takes a character (i.e. a string of length 1) and returns True if it is a vowel, False otherwise."
   ]
  },
  {
   "cell_type": "code",
   "execution_count": 44,
   "metadata": {},
   "outputs": [
    {
     "name": "stdout",
     "output_type": "stream",
     "text": [
      "letter:  b\n",
      "Vowel:  False\n"
     ]
    }
   ],
   "source": [
    "def check_vowel(letter):\n",
    "    vowels = [i for i in \"aeiou\"]\n",
    "    return True if letter in vowels else False\n",
    "\n",
    "letter = input(\"Enter a letter: \")\n",
    "print(\"letter: \", letter)\n",
    "v = check_vowel(letter)\n",
    "print(\"Vowel: \",v)\n"
   ]
  },
  {
   "cell_type": "code",
   "execution_count": null,
   "metadata": {},
   "outputs": [],
   "source": []
  }
 ],
 "metadata": {
  "kernelspec": {
   "display_name": "Python 3",
   "language": "python",
   "name": "python3"
  },
  "language_info": {
   "codemirror_mode": {
    "name": "ipython",
    "version": 3
   },
   "file_extension": ".py",
   "mimetype": "text/x-python",
   "name": "python",
   "nbconvert_exporter": "python",
   "pygments_lexer": "ipython3",
   "version": "3.8.6"
  }
 },
 "nbformat": 4,
 "nbformat_minor": 2
}
